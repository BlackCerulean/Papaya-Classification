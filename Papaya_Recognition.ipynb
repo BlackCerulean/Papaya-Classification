{
  "nbformat": 4,
  "nbformat_minor": 0,
  "metadata": {
    "colab": {
      "name": "Papaya Recognition.ipynb",
      "provenance": [],
      "collapsed_sections": [],
      "include_colab_link": true
    },
    "kernelspec": {
      "name": "python3",
      "display_name": "Python 3"
    },
    "language_info": {
      "name": "python"
    },
    "accelerator": "GPU"
  },
  "cells": [
    {
      "cell_type": "markdown",
      "metadata": {
        "id": "view-in-github",
        "colab_type": "text"
      },
      "source": [
        "<a href=\"https://colab.research.google.com/github/BlackCerulean/Papaya-Classification/blob/main/Papaya_Recognition.ipynb\" target=\"_parent\"><img src=\"https://colab.research.google.com/assets/colab-badge.svg\" alt=\"Open In Colab\"/></a>"
      ]
    },
    {
      "cell_type": "code",
      "metadata": {
        "id": "LirMIn4eu3mU"
      },
      "source": [
        "import numpy as np\n",
        "import tensorflow as tf\n",
        "from tensorflow.keras import datasets, layers, models\n",
        "from tensorflow import keras\n",
        "from tensorflow.keras import layers\n",
        "from tensorflow.keras.models import Sequential\n",
        "from tensorflow.keras.preprocessing import image\n",
        "from tensorflow.keras.preprocessing.image import ImageDataGenerator\n",
        "\n",
        "# Mount Google Drive\n",
        "# from google.colab import drive\n",
        "# drive.mount('/content/drive')"
      ],
      "execution_count": null,
      "outputs": []
    },
    {
      "cell_type": "code",
      "metadata": {
        "colab": {
          "base_uri": "https://localhost:8080/"
        },
        "id": "DX0tDnSjv_cG",
        "outputId": "71767a15-a53a-457c-f94f-78203968b6c6"
      },
      "source": [
        "data_generator = ImageDataGenerator(\n",
        "    rescale = 1. / 255, \n",
        "    shear_range = 0.2, \n",
        "    zoom_range = 0.2, \n",
        "    horizontal_flip = True,\n",
        "    vertical_flip = True,\n",
        "    rotation_range = 180,\n",
        "    width_shift_range = 0.2,\n",
        "    height_shift_range = 0.2,\n",
        "    validation_split = 0.3) \n",
        "\n",
        "train_generator = data_generator.flow_from_directory(\n",
        "    '/content/drive/MyDrive/Third Year/CSC340 Artificial Intelligent/Papaya Project/training', \n",
        "    target_size =(128, 128),\n",
        "    batch_size=64,\n",
        "    shuffle = True,\n",
        "    class_mode = 'sparse',\n",
        "    seed = 112,\n",
        "    subset='training')\n",
        "\n",
        "validation_generator = data_generator.flow_from_directory( \n",
        "    '/content/drive/MyDrive/Third Year/CSC340 Artificial Intelligent/Papaya Project/training', \n",
        "    target_size =(128, 128),\n",
        "    batch_size=64,\n",
        "    shuffle = True,\n",
        "    class_mode = 'sparse',\n",
        "    seed = 112,\n",
        "    subset='validation')\n",
        "\n",
        "# X_train, y_train = next(train_generator)\n",
        "# X_test, y_test = next(validation_generator)\n",
        "\n",
        "# print(train_generator)\n",
        "# print(len(y_train))"
      ],
      "execution_count": null,
      "outputs": [
        {
          "output_type": "stream",
          "name": "stdout",
          "text": [
            "Found 673 images belonging to 3 classes.\n",
            "Found 286 images belonging to 3 classes.\n"
          ]
        }
      ]
    },
    {
      "cell_type": "code",
      "metadata": {
        "id": "bRoP_yNZvQtS"
      },
      "source": [
        "model = tf.keras.Sequential([\n",
        "\n",
        "  tf.keras.layers.Conv2D(32, (3,3),padding='same', activation='relu', input_shape=(128,128, 3)),\n",
        "  tf.keras.layers.MaxPooling2D((2,2),2), \n",
        "  tf.keras.layers.Conv2D(64, (3,3), padding='same', activation='relu'),\n",
        "  tf.keras.layers.MaxPooling2D((2,2),2),\n",
        "  \n",
        "  tf.keras.layers.Flatten(),\n",
        "  tf.keras.layers.Dense(64, activation='relu'),\n",
        "  tf.keras.layers.Dense(64, activation='relu'),\n",
        "\n",
        "  tf.keras.layers.Dense(3, activation='softmax')\n",
        "])\n",
        "\n",
        "  # tf.keras.layers.Conv2D(128, (3,3), padding='same', activation='relu'),\n",
        "  # tf.keras.layers.MaxPooling2D((2,2),2), \n",
        "  # tf.keras.layers.Conv2D(256, (3,3), padding='same', activation='relu'),\n",
        "  # tf.keras.layers.MaxPooling2D((2,2),2),\n",
        "  # tf.keras.layers.Conv2D(512, (3,3), padding='same', activation='relu'),\n",
        "  # tf.keras.layers.MaxPooling2D((2,2),2),\n",
        "  # tf.keras.layers.Conv2D(1024, (3,3), padding='same', activation='relu'),\n",
        "  # tf.keras.layers.MaxPooling2D((2,2),2),\n",
        "# tf.keras.layers.Conv2D(2048, (3,3), padding='same', activation='relu'),\n",
        "# tf.keras.layers.MaxPooling2D((2,2),2),"
      ],
      "execution_count": null,
      "outputs": []
    },
    {
      "cell_type": "code",
      "metadata": {
        "colab": {
          "base_uri": "https://localhost:8080/"
        },
        "id": "V9jwfxNlvUPl",
        "outputId": "727ad216-b904-45da-93c0-2d65198af2e3"
      },
      "source": [
        "model.summary()"
      ],
      "execution_count": null,
      "outputs": [
        {
          "output_type": "stream",
          "name": "stdout",
          "text": [
            "Model: \"sequential_1\"\n",
            "_________________________________________________________________\n",
            " Layer (type)                Output Shape              Param #   \n",
            "=================================================================\n",
            " conv2d_2 (Conv2D)           (None, 128, 128, 32)      896       \n",
            "                                                                 \n",
            " max_pooling2d_2 (MaxPooling  (None, 64, 64, 32)       0         \n",
            " 2D)                                                             \n",
            "                                                                 \n",
            " conv2d_3 (Conv2D)           (None, 64, 64, 64)        18496     \n",
            "                                                                 \n",
            " max_pooling2d_3 (MaxPooling  (None, 32, 32, 64)       0         \n",
            " 2D)                                                             \n",
            "                                                                 \n",
            " conv2d_4 (Conv2D)           (None, 32, 32, 128)       73856     \n",
            "                                                                 \n",
            " max_pooling2d_4 (MaxPooling  (None, 16, 16, 128)      0         \n",
            " 2D)                                                             \n",
            "                                                                 \n",
            " conv2d_5 (Conv2D)           (None, 16, 16, 256)       295168    \n",
            "                                                                 \n",
            " max_pooling2d_5 (MaxPooling  (None, 8, 8, 256)        0         \n",
            " 2D)                                                             \n",
            "                                                                 \n",
            " conv2d_6 (Conv2D)           (None, 8, 8, 512)         1180160   \n",
            "                                                                 \n",
            " max_pooling2d_6 (MaxPooling  (None, 4, 4, 512)        0         \n",
            " 2D)                                                             \n",
            "                                                                 \n",
            " conv2d_7 (Conv2D)           (None, 4, 4, 1024)        4719616   \n",
            "                                                                 \n",
            " max_pooling2d_7 (MaxPooling  (None, 2, 2, 1024)       0         \n",
            " 2D)                                                             \n",
            "                                                                 \n",
            " flatten_1 (Flatten)         (None, 4096)              0         \n",
            "                                                                 \n",
            " dense_3 (Dense)             (None, 1024)              4195328   \n",
            "                                                                 \n",
            " dense_4 (Dense)             (None, 1024)              1049600   \n",
            "                                                                 \n",
            " dense_5 (Dense)             (None, 3)                 3075      \n",
            "                                                                 \n",
            "=================================================================\n",
            "Total params: 11,536,195\n",
            "Trainable params: 11,536,195\n",
            "Non-trainable params: 0\n",
            "_________________________________________________________________\n"
          ]
        }
      ]
    },
    {
      "cell_type": "code",
      "metadata": {
        "id": "4Pv0lVah1KZK"
      },
      "source": [
        "model.compile(optimizer='Adam',\n",
        "              loss='sparse_categorical_crossentropy',\n",
        "              metrics=[\"sparse_categorical_accuracy\"])"
      ],
      "execution_count": null,
      "outputs": []
    },
    {
      "cell_type": "code",
      "metadata": {
        "colab": {
          "base_uri": "https://localhost:8080/"
        },
        "id": "tp0qPVXpvs4N",
        "outputId": "ce691570-e6de-41d5-cf16-632c6b35dae7"
      },
      "source": [
        "model.fit(train_generator, epochs=10, validation_data=validation_generator)"
      ],
      "execution_count": null,
      "outputs": [
        {
          "output_type": "stream",
          "name": "stdout",
          "text": [
            "Epoch 1/10\n",
            "11/11 [==============================] - 67s 6s/step - loss: 1.4160 - sparse_categorical_accuracy: 0.4383 - val_loss: 0.8962 - val_sparse_categorical_accuracy: 0.6049\n",
            "Epoch 2/10\n",
            "11/11 [==============================] - 64s 6s/step - loss: 0.6703 - sparse_categorical_accuracy: 0.7311 - val_loss: 0.9145 - val_sparse_categorical_accuracy: 0.5210\n",
            "Epoch 3/10\n",
            "11/11 [==============================] - 64s 6s/step - loss: 0.4070 - sparse_categorical_accuracy: 0.8425 - val_loss: 0.9354 - val_sparse_categorical_accuracy: 0.5874\n",
            "Epoch 4/10\n",
            "11/11 [==============================] - 64s 6s/step - loss: 0.4205 - sparse_categorical_accuracy: 0.8262 - val_loss: 0.8043 - val_sparse_categorical_accuracy: 0.6329\n",
            "Epoch 5/10\n",
            "11/11 [==============================] - 64s 6s/step - loss: 0.3531 - sparse_categorical_accuracy: 0.8514 - val_loss: 0.8033 - val_sparse_categorical_accuracy: 0.6329\n",
            "Epoch 6/10\n",
            "11/11 [==============================] - 64s 6s/step - loss: 0.3485 - sparse_categorical_accuracy: 0.8544 - val_loss: 0.7115 - val_sparse_categorical_accuracy: 0.7133\n",
            "Epoch 7/10\n",
            "11/11 [==============================] - 64s 6s/step - loss: 0.3071 - sparse_categorical_accuracy: 0.8737 - val_loss: 1.1155 - val_sparse_categorical_accuracy: 0.6329\n",
            "Epoch 8/10\n",
            "11/11 [==============================] - 64s 6s/step - loss: 0.2616 - sparse_categorical_accuracy: 0.8990 - val_loss: 1.0409 - val_sparse_categorical_accuracy: 0.5804\n",
            "Epoch 9/10\n",
            "11/11 [==============================] - 63s 6s/step - loss: 0.2531 - sparse_categorical_accuracy: 0.8960 - val_loss: 0.9259 - val_sparse_categorical_accuracy: 0.6818\n",
            "Epoch 10/10\n",
            "11/11 [==============================] - 64s 6s/step - loss: 0.2488 - sparse_categorical_accuracy: 0.8975 - val_loss: 0.9290 - val_sparse_categorical_accuracy: 0.7028\n"
          ]
        },
        {
          "output_type": "execute_result",
          "data": {
            "text/plain": [
              "<keras.callbacks.History at 0x7fdefd71e290>"
            ]
          },
          "metadata": {},
          "execution_count": 56
        }
      ]
    },
    {
      "cell_type": "code",
      "metadata": {
        "id": "brXzPe0aOXNu"
      },
      "source": [
        "filePath = '/content/drive/MyDrive/Third Year/CSC340 Artificial Intelligent/Papaya Project/'"
      ],
      "execution_count": null,
      "outputs": []
    },
    {
      "cell_type": "code",
      "metadata": {
        "id": "xY6q410nBRx9"
      },
      "source": [
        "# Save Model\n",
        "# model.save(filePath+'Model/papayaV6.h5')"
      ],
      "execution_count": null,
      "outputs": []
    },
    {
      "cell_type": "code",
      "metadata": {
        "id": "MWd7VHIVBTbK"
      },
      "source": [
        "model = tf.keras.models.load_model(filePath+'Model/papayaV5.h5')"
      ],
      "execution_count": null,
      "outputs": []
    },
    {
      "cell_type": "code",
      "metadata": {
        "id": "SW2x_WBFBPJt"
      },
      "source": [
        "def translate(x):\n",
        "    return {\n",
        "        0: 'ripe',\n",
        "        1: 'medium',\n",
        "        2: 'unripe',\n",
        "        3: 'error'\n",
        "    }.get(x, 3)\n",
        "\n"
      ],
      "execution_count": null,
      "outputs": []
    },
    {
      "cell_type": "code",
      "metadata": {
        "colab": {
          "base_uri": "https://localhost:8080/"
        },
        "id": "wnQILSPvCv7c",
        "outputId": "4712a9b9-1ae7-4aaf-8cc6-cc191de5dd8b"
      },
      "source": [
        "path = filePath+'predict/MicrosoftTeams-image (1).png'\n",
        "# path = '/content/papaya06.png'\n",
        "img = image.load_img(path, target_size=(128, 128, 3))\n",
        "x = image.img_to_array(img) / 255.0\n",
        "x = np.expand_dims(x, axis=0)\n",
        "images = np.vstack([x])\n",
        "classes = model.predict(images)\n",
        "# score = tf.nn.softmax(classes[0])\n",
        "print(\"Status: \", translate(np.argmax(classes[0])))\n",
        "print(\"Confident Level: \", np.max(classes[0])*100)"
      ],
      "execution_count": null,
      "outputs": [
        {
          "output_type": "stream",
          "name": "stdout",
          "text": [
            "Status:  unripe\n",
            "Confident Level:  68.41087937355042\n"
          ]
        }
      ]
    },
    {
      "cell_type": "code",
      "metadata": {
        "colab": {
          "base_uri": "https://localhost:8080/"
        },
        "id": "9_OdQQi1XRDw",
        "outputId": "583c2bf7-af33-4aac-8173-2247069c9520"
      },
      "source": [
        "path = filePath + 'predict/papaya02.jpg'\n",
        "img = image.load_img(path, target_size=(128,128,3))\n",
        "x = image.img_to_array(img) / 255.0\n",
        "x = x.reshape(1,128,128,3)\n",
        "classes = model.predict(x)\n",
        "print(classes)\n",
        "print(\"Status: \", translate(np.argmax(classes[0])))\n",
        "print(\"Confident Level: \", np.max(classes[0])*100)\n",
        "\n",
        "# f = os.path.join(filePath+'predict/Test', filename)\n",
        "# img = image.load_img(f, target_size=(128, 128, 3))\n",
        "# x = image.img_to_array(img)/ 255.0\n",
        "# x = np.expand_dims(x, axis=0)\n",
        "# images = np.vstack([x])\n",
        "# img = cv2.imread(f)\n",
        "# img = image.img_to_array(img)\n",
        "# img = cv2.resize(img,(128,128))\n",
        "# img = img / 255.\n",
        "# img = img.reshape(128,128,3)\n",
        "# img = np.expand_dims(img, axis=0)"
      ],
      "execution_count": null,
      "outputs": [
        {
          "output_type": "stream",
          "name": "stdout",
          "text": [
            "[[6.8690020e-01 3.1308550e-01 1.4263943e-05]]\n",
            "Status:  ripe\n",
            "Confident Level:  68.69001984596252\n"
          ]
        }
      ]
    },
    {
      "cell_type": "code",
      "metadata": {
        "id": "W3qHivvFxIXn",
        "colab": {
          "base_uri": "https://localhost:8080/"
        },
        "outputId": "a31426b9-56dd-41bc-d017-d6b45eb7debf"
      },
      "source": [
        "import cv2\n",
        "import os\n",
        "\n",
        "x_predict = []\n",
        "for filename in os.listdir(filePath+'predict/Test'):\n",
        "  f = os.path.join(filePath+'predict/Test', filename)\n",
        "  img = image.load_img(f, target_size=(128,128,3))\n",
        "  x = image.img_to_array(img) / 255.0\n",
        "  x = x.reshape(1,128,128,3)\n",
        "  classes = model.predict(x)\n",
        "  print(np.max(classes[0]), translate(np.argmax(classes[0])))\n",
        "  x_predict.append(translate(np.argmax(classes[0])))\n"
      ],
      "execution_count": null,
      "outputs": [
        {
          "output_type": "stream",
          "name": "stdout",
          "text": [
            "0.528332 medium\n",
            "0.73420525 medium\n",
            "0.9718401 unripe\n",
            "0.9809141 medium\n",
            "0.915578 unripe\n",
            "0.9053623 ripe\n",
            "0.97597903 medium\n",
            "0.7608648 medium\n",
            "0.50944877 ripe\n",
            "0.9724361 ripe\n",
            "0.94291484 ripe\n",
            "0.9624167 medium\n",
            "0.6177479 medium\n",
            "0.83332413 medium\n",
            "0.70780087 medium\n",
            "0.9162252 unripe\n",
            "0.8963288 unripe\n",
            "0.7611853 unripe\n",
            "0.644095 ripe\n",
            "0.64797693 medium\n",
            "0.91812634 unripe\n",
            "0.9454306 medium\n",
            "0.7542327 medium\n",
            "0.7753365 unripe\n",
            "0.91856664 unripe\n",
            "0.942022 unripe\n",
            "0.71256286 medium\n",
            "0.5374842 ripe\n",
            "0.8865002 unripe\n",
            "0.9131057 ripe\n",
            "0.85602546 ripe\n",
            "0.95319813 unripe\n",
            "0.8903623 unripe\n",
            "0.9547739 unripe\n",
            "0.9744828 medium\n",
            "0.51376647 unripe\n",
            "0.776585 medium\n",
            "0.74982756 medium\n",
            "0.8781089 unripe\n",
            "0.97079426 unripe\n",
            "0.98179376 unripe\n",
            "0.960844 medium\n",
            "0.91191685 ripe\n",
            "0.87672853 unripe\n",
            "0.97223186 unripe\n",
            "0.9822499 unripe\n",
            "0.9506398 ripe\n",
            "0.72647655 medium\n",
            "0.96698016 ripe\n",
            "0.63732845 ripe\n",
            "0.84828275 medium\n",
            "0.8495325 unripe\n",
            "0.8591796 unripe\n",
            "0.94096744 unripe\n",
            "0.9493533 unripe\n",
            "0.51103354 unripe\n",
            "0.84248537 unripe\n",
            "0.90422547 unripe\n",
            "0.6588709 ripe\n",
            "0.9064338 unripe\n",
            "0.9265222 unripe\n",
            "0.896888 unripe\n",
            "0.7100328 ripe\n",
            "0.9011891 unripe\n",
            "0.9116408 unripe\n",
            "0.9155392 ripe\n",
            "0.91032386 ripe\n",
            "0.8669413 ripe\n",
            "0.93313545 ripe\n",
            "0.8966072 medium\n",
            "0.81597817 ripe\n",
            "0.97044927 medium\n",
            "0.93485403 medium\n",
            "0.7338459 unripe\n",
            "0.9202271 ripe\n",
            "0.7846628 unripe\n",
            "0.73119736 unripe\n",
            "0.9750963 ripe\n",
            "0.97421515 unripe\n",
            "0.9677875 ripe\n",
            "0.93904495 unripe\n",
            "0.93799603 unripe\n",
            "0.8914795 unripe\n",
            "0.7510893 unripe\n",
            "0.7392193 unripe\n",
            "0.92668086 medium\n",
            "0.6917508 unripe\n",
            "0.87219334 unripe\n",
            "0.8727312 unripe\n",
            "0.6995916 medium\n",
            "0.87631184 unripe\n",
            "0.9637974 unripe\n",
            "0.88515174 medium\n",
            "0.99313366 medium\n",
            "0.9674123 medium\n",
            "0.98716927 ripe\n",
            "0.9781626 ripe\n",
            "0.85561955 unripe\n",
            "0.811915 medium\n",
            "0.90234673 unripe\n"
          ]
        }
      ]
    },
    {
      "cell_type": "code",
      "metadata": {
        "id": "QXA9TtnNK5wA",
        "colab": {
          "base_uri": "https://localhost:8080/"
        },
        "outputId": "8e35a8e4-b3ab-405a-f055-360145b1dedc"
      },
      "source": [
        "# Confusion matrix\n",
        "from sklearn import metrics\n",
        "import pandas as pd\n",
        "\n",
        "x_actual = pd.read_csv(filePath+'Model/newResult.csv', header = None)\n",
        "print(metrics.confusion_matrix(x_actual, x_predict, labels=['ripe', 'medium', 'unripe']))\n",
        "print(metrics.classification_report(x_actual, x_predict, labels=['ripe', 'medium', 'unripe']))"
      ],
      "execution_count": null,
      "outputs": [
        {
          "output_type": "stream",
          "name": "stdout",
          "text": [
            "[[16 12  0]\n",
            " [ 1 24  2]\n",
            " [ 0  2 43]]\n",
            "              precision    recall  f1-score   support\n",
            "\n",
            "        ripe       0.94      0.57      0.71        28\n",
            "      medium       0.63      0.89      0.74        27\n",
            "      unripe       0.96      0.96      0.96        45\n",
            "\n",
            "    accuracy                           0.83       100\n",
            "   macro avg       0.84      0.81      0.80       100\n",
            "weighted avg       0.86      0.83      0.83       100\n",
            "\n"
          ]
        }
      ]
    },
    {
      "cell_type": "code",
      "metadata": {
        "colab": {
          "base_uri": "https://localhost:8080/"
        },
        "id": "luIh0Wrcuy79",
        "outputId": "6b1a6886-4021-4a89-ee1e-cf364c7af102"
      },
      "source": [
        "# Confusion matrix V2\n",
        "from sklearn import metrics\n",
        "import pandas as pd\n",
        "\n",
        "x_actual = pd.read_csv(filePath+'Model/newResult.csv', header = None)\n",
        "print(metrics.confusion_matrix(x_actual, x_predict, labels=['ripe', 'medium', 'unripe']))\n",
        "print(metrics.classification_report(x_actual, x_predict, labels=['ripe', 'medium', 'unripe']))"
      ],
      "execution_count": null,
      "outputs": [
        {
          "output_type": "stream",
          "name": "stdout",
          "text": [
            "[[16 12  0]\n",
            " [ 0 26  1]\n",
            " [ 0  6 39]]\n",
            "              precision    recall  f1-score   support\n",
            "\n",
            "        ripe       1.00      0.57      0.73        28\n",
            "      medium       0.59      0.96      0.73        27\n",
            "      unripe       0.97      0.87      0.92        45\n",
            "\n",
            "    accuracy                           0.81       100\n",
            "   macro avg       0.86      0.80      0.79       100\n",
            "weighted avg       0.88      0.81      0.81       100\n",
            "\n"
          ]
        }
      ]
    },
    {
      "cell_type": "code",
      "metadata": {
        "colab": {
          "base_uri": "https://localhost:8080/"
        },
        "id": "SJJi14IVJCwR",
        "outputId": "e9026be3-c3ea-4485-970a-3e9551958388"
      },
      "source": [
        "# Confusion matrix V3\n",
        "from sklearn import metrics\n",
        "import pandas as pd\n",
        "\n",
        "x_actual = pd.read_csv(filePath+'Model/newResult.csv', header = None)\n",
        "print(metrics.confusion_matrix(x_actual, x_predict, labels=['ripe', 'medium', 'unripe']))\n",
        "print(metrics.classification_report(x_actual, x_predict, labels=['ripe', 'medium', 'unripe']))"
      ],
      "execution_count": null,
      "outputs": [
        {
          "output_type": "stream",
          "name": "stdout",
          "text": [
            "[[15 13  0]\n",
            " [ 1 24  2]\n",
            " [ 0  2 43]]\n",
            "              precision    recall  f1-score   support\n",
            "\n",
            "        ripe       0.94      0.54      0.68        28\n",
            "      medium       0.62      0.89      0.73        27\n",
            "      unripe       0.96      0.96      0.96        45\n",
            "\n",
            "    accuracy                           0.82       100\n",
            "   macro avg       0.84      0.79      0.79       100\n",
            "weighted avg       0.86      0.82      0.82       100\n",
            "\n"
          ]
        }
      ]
    },
    {
      "cell_type": "code",
      "metadata": {
        "colab": {
          "base_uri": "https://localhost:8080/"
        },
        "id": "nNL7gmd742DU",
        "outputId": "0ca89dd7-0d34-4497-b0e9-ac52a0227efc"
      },
      "source": [
        "# Confusion matrix V4\n",
        "from sklearn import metrics\n",
        "import pandas as pd\n",
        "\n",
        "x_actual = pd.read_csv(filePath+'Model/newResult.csv', header = None)\n",
        "print(metrics.confusion_matrix(x_actual, x_predict, labels=['ripe', 'medium', 'unripe']))\n",
        "print(metrics.classification_report(x_actual, x_predict, labels=['ripe', 'medium', 'unripe']))"
      ],
      "execution_count": null,
      "outputs": [
        {
          "output_type": "stream",
          "name": "stdout",
          "text": [
            "[[15 13  0]\n",
            " [ 1 25  1]\n",
            " [ 0  1 44]]\n",
            "              precision    recall  f1-score   support\n",
            "\n",
            "        ripe       0.94      0.54      0.68        28\n",
            "      medium       0.64      0.93      0.76        27\n",
            "      unripe       0.98      0.98      0.98        45\n",
            "\n",
            "    accuracy                           0.84       100\n",
            "   macro avg       0.85      0.81      0.81       100\n",
            "weighted avg       0.88      0.84      0.84       100\n",
            "\n"
          ]
        }
      ]
    },
    {
      "cell_type": "code",
      "metadata": {
        "colab": {
          "base_uri": "https://localhost:8080/"
        },
        "id": "MUHJ6EXf6D2g",
        "outputId": "37e90390-4913-48d4-9d00-d1219836a8fd"
      },
      "source": [
        "# Confusion matrix V5\n",
        "from sklearn import metrics\n",
        "import pandas as pd\n",
        "\n",
        "x_actual = pd.read_csv(filePath+'Model/newResult.csv', header = None)\n",
        "print(metrics.confusion_matrix(x_actual, x_predict, labels=['ripe', 'medium', 'unripe']))\n",
        "print(metrics.classification_report(x_actual, x_predict, labels=['ripe', 'medium', 'unripe']))"
      ],
      "execution_count": null,
      "outputs": [
        {
          "output_type": "stream",
          "name": "stdout",
          "text": [
            "[[23  5  0]\n",
            " [ 1 23  3]\n",
            " [ 0  0 45]]\n",
            "              precision    recall  f1-score   support\n",
            "\n",
            "        ripe       0.96      0.82      0.88        28\n",
            "      medium       0.82      0.85      0.84        27\n",
            "      unripe       0.94      1.00      0.97        45\n",
            "\n",
            "    accuracy                           0.91       100\n",
            "   macro avg       0.91      0.89      0.90       100\n",
            "weighted avg       0.91      0.91      0.91       100\n",
            "\n"
          ]
        }
      ]
    },
    {
      "cell_type": "code",
      "metadata": {
        "colab": {
          "base_uri": "https://localhost:8080/"
        },
        "id": "xooFmxNBQDKL",
        "outputId": "01f9a995-074f-4533-f633-f4c251636570"
      },
      "source": [
        "# Confusion matrix V6\n",
        "from sklearn import metrics\n",
        "import pandas as pd\n",
        "\n",
        "x_actual = pd.read_csv(filePath+'Model/newResult.csv', header = None)\n",
        "print(metrics.confusion_matrix(x_actual, x_predict, labels=['ripe', 'medium', 'unripe']))\n",
        "print(metrics.classification_report(x_actual, x_predict, labels=['ripe', 'medium', 'unripe']))"
      ],
      "execution_count": null,
      "outputs": [
        {
          "output_type": "stream",
          "name": "stdout",
          "text": [
            "[[18 10  0]\n",
            " [ 2 24  1]\n",
            " [ 0  1 44]]\n",
            "              precision    recall  f1-score   support\n",
            "\n",
            "        ripe       0.90      0.64      0.75        28\n",
            "      medium       0.69      0.89      0.77        27\n",
            "      unripe       0.98      0.98      0.98        45\n",
            "\n",
            "    accuracy                           0.86       100\n",
            "   macro avg       0.85      0.84      0.83       100\n",
            "weighted avg       0.88      0.86      0.86       100\n",
            "\n"
          ]
        }
      ]
    }
  ]
}