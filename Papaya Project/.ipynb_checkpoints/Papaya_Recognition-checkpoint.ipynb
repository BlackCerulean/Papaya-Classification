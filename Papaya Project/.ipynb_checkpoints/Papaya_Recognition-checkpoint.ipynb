{
 "cells": [
  {
   "cell_type": "code",
   "execution_count": 1,
   "metadata": {
    "id": "LirMIn4eu3mU"
   },
   "outputs": [],
   "source": [
    "import numpy as np\n",
    "import tensorflow as tf\n",
    "from tensorflow.keras import datasets, layers, models\n",
    "from tensorflow import keras\n",
    "from tensorflow.keras import layers\n",
    "from tensorflow.keras.models import Sequential\n",
    "from tensorflow.keras.preprocessing import image\n",
    "from tensorflow.keras.preprocessing.image import ImageDataGenerator\n",
    "\n",
    "# Mount Google Drive\n",
    "# from google.colab import drive\n",
    "# drive.mount('/content/drive')"
   ]
  },
  {
   "cell_type": "code",
   "execution_count": 2,
   "metadata": {
    "colab": {
     "base_uri": "https://localhost:8080/"
    },
    "id": "DX0tDnSjv_cG",
    "outputId": "71767a15-a53a-457c-f94f-78203968b6c6"
   },
   "outputs": [
    {
     "name": "stdout",
     "output_type": "stream",
     "text": [
      "Found 673 images belonging to 3 classes.\n",
      "Found 286 images belonging to 3 classes.\n"
     ]
    }
   ],
   "source": [
    "data_generator = ImageDataGenerator(\n",
    "    rescale = 1. / 255, \n",
    "    shear_range = 0.2, \n",
    "    zoom_range = 0.2, \n",
    "    horizontal_flip = True,\n",
    "    vertical_flip = True,\n",
    "    rotation_range = 180,\n",
    "    width_shift_range = 0.2,\n",
    "    height_shift_range = 0.2,\n",
    "    validation_split = 0.3) \n",
    "\n",
    "train_generator = data_generator.flow_from_directory(\n",
    "    'training', \n",
    "    target_size =(128, 128),\n",
    "    batch_size=64,\n",
    "    shuffle = True,\n",
    "    class_mode = 'sparse',\n",
    "    seed = 112,\n",
    "    subset='training')\n",
    "\n",
    "validation_generator = data_generator.flow_from_directory( \n",
    "    'training', \n",
    "    target_size =(128, 128),\n",
    "    batch_size=64,\n",
    "    shuffle = True,\n",
    "    class_mode = 'sparse',\n",
    "    seed = 112,\n",
    "    subset='validation')\n",
    "\n",
    "# X_train, y_train = next(train_generator)\n",
    "# X_test, y_test = next(validation_generator)\n",
    "\n",
    "# print(train_generator)\n",
    "# print(len(y_train))"
   ]
  },
  {
   "cell_type": "code",
   "execution_count": 3,
   "metadata": {
    "id": "bRoP_yNZvQtS"
   },
   "outputs": [],
   "source": [
    "model = tf.keras.Sequential([\n",
    "\n",
    "  tf.keras.layers.Conv2D(32, (3,3),padding='same', activation='relu', input_shape=(128,128, 3)),\n",
    "  tf.keras.layers.MaxPooling2D((2,2),2), \n",
    "  tf.keras.layers.Conv2D(64, (3,3), padding='same', activation='relu'),\n",
    "  tf.keras.layers.MaxPooling2D((2,2),2),\n",
    "  \n",
    "  tf.keras.layers.Flatten(),\n",
    "  tf.keras.layers.Dense(64, activation='relu'),\n",
    "  tf.keras.layers.Dense(64, activation='relu'),\n",
    "\n",
    "  tf.keras.layers.Dense(3, activation='softmax')\n",
    "])\n",
    "\n",
    "  # tf.keras.layers.Conv2D(128, (3,3), padding='same', activation='relu'),\n",
    "  # tf.keras.layers.MaxPooling2D((2,2),2), \n",
    "  # tf.keras.layers.Conv2D(256, (3,3), padding='same', activation='relu'),\n",
    "  # tf.keras.layers.MaxPooling2D((2,2),2),\n",
    "  # tf.keras.layers.Conv2D(512, (3,3), padding='same', activation='relu'),\n",
    "  # tf.keras.layers.MaxPooling2D((2,2),2),\n",
    "  # tf.keras.layers.Conv2D(1024, (3,3), padding='same', activation='relu'),\n",
    "  # tf.keras.layers.MaxPooling2D((2,2),2),\n",
    "# tf.keras.layers.Conv2D(2048, (3,3), padding='same', activation='relu'),\n",
    "# tf.keras.layers.MaxPooling2D((2,2),2),"
   ]
  },
  {
   "cell_type": "code",
   "execution_count": 4,
   "metadata": {
    "colab": {
     "base_uri": "https://localhost:8080/"
    },
    "id": "V9jwfxNlvUPl",
    "outputId": "727ad216-b904-45da-93c0-2d65198af2e3"
   },
   "outputs": [
    {
     "name": "stdout",
     "output_type": "stream",
     "text": [
      "Model: \"sequential\"\n",
      "_________________________________________________________________\n",
      "Layer (type)                 Output Shape              Param #   \n",
      "=================================================================\n",
      "conv2d (Conv2D)              (None, 128, 128, 32)      896       \n",
      "_________________________________________________________________\n",
      "max_pooling2d (MaxPooling2D) (None, 64, 64, 32)        0         \n",
      "_________________________________________________________________\n",
      "conv2d_1 (Conv2D)            (None, 64, 64, 64)        18496     \n",
      "_________________________________________________________________\n",
      "max_pooling2d_1 (MaxPooling2 (None, 32, 32, 64)        0         \n",
      "_________________________________________________________________\n",
      "flatten (Flatten)            (None, 65536)             0         \n",
      "_________________________________________________________________\n",
      "dense (Dense)                (None, 64)                4194368   \n",
      "_________________________________________________________________\n",
      "dense_1 (Dense)              (None, 64)                4160      \n",
      "_________________________________________________________________\n",
      "dense_2 (Dense)              (None, 3)                 195       \n",
      "=================================================================\n",
      "Total params: 4,218,115\n",
      "Trainable params: 4,218,115\n",
      "Non-trainable params: 0\n",
      "_________________________________________________________________\n"
     ]
    }
   ],
   "source": [
    "model.summary()"
   ]
  },
  {
   "cell_type": "code",
   "execution_count": 5,
   "metadata": {
    "id": "4Pv0lVah1KZK"
   },
   "outputs": [],
   "source": [
    "model.compile(optimizer='Adam',\n",
    "              loss='sparse_categorical_crossentropy',\n",
    "              metrics=[\"sparse_categorical_accuracy\"])"
   ]
  },
  {
   "cell_type": "code",
   "execution_count": null,
   "metadata": {
    "colab": {
     "base_uri": "https://localhost:8080/"
    },
    "id": "tp0qPVXpvs4N",
    "outputId": "ce691570-e6de-41d5-cf16-632c6b35dae7"
   },
   "outputs": [
    {
     "name": "stdout",
     "output_type": "stream",
     "text": [
      "Epoch 1/10\n",
      " 4/11 [=========>....................] - ETA: 40s - loss: 1.9012 - sparse_categorical_accuracy: 0.3289"
     ]
    }
   ],
   "source": [
    "model.fit(train_generator, epochs=10, validation_data=validation_generator)"
   ]
  },
  {
   "cell_type": "code",
   "execution_count": null,
   "metadata": {
    "id": "MWd7VHIVBTbK"
   },
   "outputs": [],
   "source": [
    "model = tf.keras.models.load_model('Model/papayaV5.h5')"
   ]
  },
  {
   "cell_type": "code",
   "execution_count": null,
   "metadata": {
    "id": "SW2x_WBFBPJt"
   },
   "outputs": [],
   "source": [
    "def translate(x):\n",
    "    return {\n",
    "        0: 'ripe',\n",
    "        1: 'medium',\n",
    "        2: 'unripe',\n",
    "        3: 'error'\n",
    "    }.get(x, 3)\n",
    "\n"
   ]
  },
  {
   "cell_type": "code",
   "execution_count": null,
   "metadata": {
    "colab": {
     "base_uri": "https://localhost:8080/"
    },
    "id": "wnQILSPvCv7c",
    "outputId": "4712a9b9-1ae7-4aaf-8cc6-cc191de5dd8b"
   },
   "outputs": [],
   "source": [
    "path = 'predict/MicrosoftTeams-image (1).png'\n",
    "# path = '/content/papaya06.png'\n",
    "img = image.load_img(path, target_size=(128, 128, 3))\n",
    "x = image.img_to_array(img) / 255.0\n",
    "x = np.expand_dims(x, axis=0)\n",
    "images = np.vstack([x])\n",
    "classes = model.predict(images)\n",
    "# score = tf.nn.softmax(classes[0])\n",
    "print(\"Status: \", translate(np.argmax(classes[0])))\n",
    "print(\"Confident Level: \", np.max(classes[0])*100)"
   ]
  },
  {
   "cell_type": "code",
   "execution_count": null,
   "metadata": {
    "colab": {
     "base_uri": "https://localhost:8080/"
    },
    "id": "9_OdQQi1XRDw",
    "outputId": "583c2bf7-af33-4aac-8173-2247069c9520"
   },
   "outputs": [],
   "source": [
    "path = 'predict/papaya02.jpg'\n",
    "img = image.load_img(path, target_size=(128,128,3))\n",
    "x = image.img_to_array(img) / 255.0\n",
    "x = x.reshape(1,128,128,3)\n",
    "classes = model.predict(x)\n",
    "print(classes)\n",
    "print(\"Status: \", translate(np.argmax(classes[0])))\n",
    "print(\"Confident Level: \", np.max(classes[0])*100)\n",
    "\n",
    "# f = os.path.join(filePath+'predict/Test', filename)\n",
    "# img = image.load_img(f, target_size=(128, 128, 3))\n",
    "# x = image.img_to_array(img)/ 255.0\n",
    "# x = np.expand_dims(x, axis=0)\n",
    "# images = np.vstack([x])\n",
    "# img = cv2.imread(f)\n",
    "# img = image.img_to_array(img)\n",
    "# img = cv2.resize(img,(128,128))\n",
    "# img = img / 255.\n",
    "# img = img.reshape(128,128,3)\n",
    "# img = np.expand_dims(img, axis=0)"
   ]
  },
  {
   "cell_type": "code",
   "execution_count": null,
   "metadata": {
    "colab": {
     "base_uri": "https://localhost:8080/"
    },
    "id": "W3qHivvFxIXn",
    "outputId": "a31426b9-56dd-41bc-d017-d6b45eb7debf"
   },
   "outputs": [],
   "source": [
    "import cv2\n",
    "import os\n",
    "\n",
    "x_predict = []\n",
    "for filename in os.listdir('predict/Test'):\n",
    "  f = os.path.join('predict/Test', filename)\n",
    "  img = image.load_img(f, target_size=(128,128,3))\n",
    "  x = image.img_to_array(img) / 255.0\n",
    "  x = x.reshape(1,128,128,3)\n",
    "  classes = model.predict(x)\n",
    "  print(np.max(classes[0]), translate(np.argmax(classes[0])))\n",
    "  x_predict.append(translate(np.argmax(classes[0])))\n"
   ]
  },
  {
   "cell_type": "code",
   "execution_count": null,
   "metadata": {
    "colab": {
     "base_uri": "https://localhost:8080/"
    },
    "id": "QXA9TtnNK5wA",
    "outputId": "8e35a8e4-b3ab-405a-f055-360145b1dedc"
   },
   "outputs": [],
   "source": [
    "# Confusion matrix\n",
    "from sklearn import metrics\n",
    "import pandas as pd\n",
    "\n",
    "x_actual = pd.read_csv('Model/newResult.csv', header = None)\n",
    "print(metrics.confusion_matrix(x_actual, x_predict, labels=['ripe', 'medium', 'unripe']))\n",
    "print(metrics.classification_report(x_actual, x_predict, labels=['ripe', 'medium', 'unripe']))"
   ]
  },
  {
   "cell_type": "code",
   "execution_count": null,
   "metadata": {
    "colab": {
     "base_uri": "https://localhost:8080/"
    },
    "id": "luIh0Wrcuy79",
    "outputId": "6b1a6886-4021-4a89-ee1e-cf364c7af102"
   },
   "outputs": [],
   "source": [
    "# Confusion matrix V2\n",
    "from sklearn import metrics\n",
    "import pandas as pd\n",
    "\n",
    "x_actual = pd.read_csv('Model/newResult.csv', header = None)\n",
    "print(metrics.confusion_matrix(x_actual, x_predict, labels=['ripe', 'medium', 'unripe']))\n",
    "print(metrics.classification_report(x_actual, x_predict, labels=['ripe', 'medium', 'unripe']))"
   ]
  },
  {
   "cell_type": "code",
   "execution_count": null,
   "metadata": {
    "colab": {
     "base_uri": "https://localhost:8080/"
    },
    "id": "SJJi14IVJCwR",
    "outputId": "e9026be3-c3ea-4485-970a-3e9551958388"
   },
   "outputs": [],
   "source": [
    "# Confusion matrix V3\n",
    "from sklearn import metrics\n",
    "import pandas as pd\n",
    "\n",
    "x_actual = pd.read_csv('Model/newResult.csv', header = None)\n",
    "print(metrics.confusion_matrix(x_actual, x_predict, labels=['ripe', 'medium', 'unripe']))\n",
    "print(metrics.classification_report(x_actual, x_predict, labels=['ripe', 'medium', 'unripe']))"
   ]
  },
  {
   "cell_type": "code",
   "execution_count": null,
   "metadata": {
    "colab": {
     "base_uri": "https://localhost:8080/"
    },
    "id": "nNL7gmd742DU",
    "outputId": "0ca89dd7-0d34-4497-b0e9-ac52a0227efc"
   },
   "outputs": [],
   "source": [
    "# Confusion matrix V4\n",
    "from sklearn import metrics\n",
    "import pandas as pd\n",
    "\n",
    "x_actual = pd.read_csv('Model/newResult.csv', header = None)\n",
    "print(metrics.confusion_matrix(x_actual, x_predict, labels=['ripe', 'medium', 'unripe']))\n",
    "print(metrics.classification_report(x_actual, x_predict, labels=['ripe', 'medium', 'unripe']))"
   ]
  },
  {
   "cell_type": "code",
   "execution_count": null,
   "metadata": {
    "colab": {
     "base_uri": "https://localhost:8080/"
    },
    "id": "MUHJ6EXf6D2g",
    "outputId": "37e90390-4913-48d4-9d00-d1219836a8fd"
   },
   "outputs": [],
   "source": [
    "# Confusion matrix V5\n",
    "from sklearn import metrics\n",
    "import pandas as pd\n",
    "\n",
    "x_actual = pd.read_csv('Model/newResult.csv', header = None)\n",
    "print(metrics.confusion_matrix(x_actual, x_predict, labels=['ripe', 'medium', 'unripe']))\n",
    "print(metrics.classification_report(x_actual, x_predict, labels=['ripe', 'medium', 'unripe']))"
   ]
  },
  {
   "cell_type": "code",
   "execution_count": null,
   "metadata": {
    "colab": {
     "base_uri": "https://localhost:8080/"
    },
    "id": "xooFmxNBQDKL",
    "outputId": "01f9a995-074f-4533-f633-f4c251636570"
   },
   "outputs": [],
   "source": [
    "# Confusion matrix V6\n",
    "from sklearn import metrics\n",
    "import pandas as pd\n",
    "\n",
    "x_actual = pd.read_csv('Model/newResult.csv', header = None)\n",
    "print(metrics.confusion_matrix(x_actual, x_predict, labels=['ripe', 'medium', 'unripe']))\n",
    "print(metrics.classification_report(x_actual, x_predict, labels=['ripe', 'medium', 'unripe']))"
   ]
  }
 ],
 "metadata": {
  "accelerator": "GPU",
  "colab": {
   "collapsed_sections": [],
   "name": "Papaya Recognition.ipynb",
   "provenance": []
  },
  "kernelspec": {
   "display_name": "Python 3",
   "language": "python",
   "name": "python3"
  },
  "language_info": {
   "codemirror_mode": {
    "name": "ipython",
    "version": 3
   },
   "file_extension": ".py",
   "mimetype": "text/x-python",
   "name": "python",
   "nbconvert_exporter": "python",
   "pygments_lexer": "ipython3",
   "version": "3.8.8"
  }
 },
 "nbformat": 4,
 "nbformat_minor": 1
}
